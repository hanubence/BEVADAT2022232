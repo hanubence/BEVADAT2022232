{
 "cells": [
  {
   "cell_type": "code",
   "execution_count": 1,
   "metadata": {},
   "outputs": [],
   "source": [
    "import numpy as np\n",
    "import pandas as pd\n",
    "\n",
    "from sklearn.model_selection import train_test_split\n",
    "from sklearn.metrics import accuracy_score\n",
    "\n",
    "from src.DecisionTreeClassifier import DecisionTreeClassifier"
   ]
  },
  {
   "cell_type": "code",
   "execution_count": 6,
   "metadata": {},
   "outputs": [],
   "source": [
    "col_name = ['sepal_length', 'sepal_width', 'petal_length', 'petal_width', 'type']\n",
    "data = pd.read_csv('Iris.csv', skiprows=1, header=None, names=col_name)\n",
    "\n",
    "X = data.iloc[:, :-1].values\n",
    "Y = data.iloc[:, -1].values.reshape(-1, 1)\n",
    "\n",
    "X_train, X_test, Y_train, Y_test = train_test_split(X, Y, test_size=.2, random_state=41)\n"
   ]
  },
  {
   "cell_type": "code",
   "execution_count": 7,
   "metadata": {},
   "outputs": [
    {
     "ename": "AttributeError",
     "evalue": "'Node' object has no attribute 'feature_index'",
     "output_type": "error",
     "traceback": [
      "\u001b[1;31m---------------------------------------------------------------------------\u001b[0m",
      "\u001b[1;31mAttributeError\u001b[0m                            Traceback (most recent call last)",
      "Cell \u001b[1;32mIn[7], line 4\u001b[0m\n\u001b[0;32m      1\u001b[0m classifier \u001b[39m=\u001b[39m DecisionTreeClassifier(min_samples_split\u001b[39m=\u001b[39m\u001b[39m3\u001b[39m, max_depth\u001b[39m=\u001b[39m\u001b[39m3\u001b[39m)\n\u001b[0;32m      2\u001b[0m classifier\u001b[39m.\u001b[39mfit(X_train, Y_train)\n\u001b[1;32m----> 4\u001b[0m Y_pred \u001b[39m=\u001b[39m classifier\u001b[39m.\u001b[39;49mpredict(X_test)\n\u001b[0;32m      6\u001b[0m \u001b[39mprint\u001b[39m(accuracy_score(Y_test, Y_pred))\n",
      "File \u001b[1;32md:\\Projects\\BEVADAT2022232\\GYAK\\GYAK06\\src\\DecisionTreeClassifier.py:110\u001b[0m, in \u001b[0;36mDecisionTreeClassifier.predict\u001b[1;34m(self, X)\u001b[0m\n\u001b[0;32m    108\u001b[0m \u001b[39mdef\u001b[39;00m \u001b[39mpredict\u001b[39m(\u001b[39mself\u001b[39m, X):\n\u001b[1;32m--> 110\u001b[0m     preditions \u001b[39m=\u001b[39m [\u001b[39mself\u001b[39m\u001b[39m.\u001b[39mmake_prediction(x, \u001b[39mself\u001b[39m\u001b[39m.\u001b[39mroot) \u001b[39mfor\u001b[39;00m x \u001b[39min\u001b[39;00m X]\n\u001b[0;32m    111\u001b[0m     \u001b[39mreturn\u001b[39;00m preditions\n",
      "File \u001b[1;32md:\\Projects\\BEVADAT2022232\\GYAK\\GYAK06\\src\\DecisionTreeClassifier.py:110\u001b[0m, in \u001b[0;36m<listcomp>\u001b[1;34m(.0)\u001b[0m\n\u001b[0;32m    108\u001b[0m \u001b[39mdef\u001b[39;00m \u001b[39mpredict\u001b[39m(\u001b[39mself\u001b[39m, X):\n\u001b[1;32m--> 110\u001b[0m     preditions \u001b[39m=\u001b[39m [\u001b[39mself\u001b[39;49m\u001b[39m.\u001b[39;49mmake_prediction(x, \u001b[39mself\u001b[39;49m\u001b[39m.\u001b[39;49mroot) \u001b[39mfor\u001b[39;00m x \u001b[39min\u001b[39;00m X]\n\u001b[0;32m    111\u001b[0m     \u001b[39mreturn\u001b[39;00m preditions\n",
      "File \u001b[1;32md:\\Projects\\BEVADAT2022232\\GYAK\\GYAK06\\src\\DecisionTreeClassifier.py:117\u001b[0m, in \u001b[0;36mDecisionTreeClassifier.make_prediction\u001b[1;34m(self, x, tree)\u001b[0m\n\u001b[0;32m    115\u001b[0m \u001b[39mif\u001b[39;00m tree\u001b[39m.\u001b[39mvalue\u001b[39m!=\u001b[39m\u001b[39mNone\u001b[39;00m: \n\u001b[0;32m    116\u001b[0m     \u001b[39mreturn\u001b[39;00m tree\u001b[39m.\u001b[39mvalue\n\u001b[1;32m--> 117\u001b[0m feature_val \u001b[39m=\u001b[39m x[tree\u001b[39m.\u001b[39;49mfeature_index]\n\u001b[0;32m    118\u001b[0m \u001b[39mif\u001b[39;00m feature_val\u001b[39m<\u001b[39m\u001b[39m=\u001b[39mtree\u001b[39m.\u001b[39mthreshold:\n\u001b[0;32m    119\u001b[0m     \u001b[39mreturn\u001b[39;00m \u001b[39mself\u001b[39m\u001b[39m.\u001b[39mmake_prediction(x, tree\u001b[39m.\u001b[39mleft)\n",
      "\u001b[1;31mAttributeError\u001b[0m: 'Node' object has no attribute 'feature_index'"
     ]
    }
   ],
   "source": [
    "classifier = DecisionTreeClassifier(min_samples_split=3, max_depth=3)\n",
    "classifier.fit(X_train, Y_train)\n",
    "\n",
    "Y_pred = classifier.predict(X_test)\n",
    "\n",
    "print(accuracy_score(Y_test, Y_pred))"
   ]
  }
 ],
 "metadata": {
  "kernelspec": {
   "display_name": "Python 3",
   "language": "python",
   "name": "python3"
  },
  "language_info": {
   "codemirror_mode": {
    "name": "ipython",
    "version": 3
   },
   "file_extension": ".py",
   "mimetype": "text/x-python",
   "name": "python",
   "nbconvert_exporter": "python",
   "pygments_lexer": "ipython3",
   "version": "3.10.5"
  },
  "orig_nbformat": 4
 },
 "nbformat": 4,
 "nbformat_minor": 2
}

{
  "cells": [
    {
      "cell_type": "code",
      "execution_count": null,
      "metadata": {
        "id": "WirC4JJduu5J"
      },
      "outputs": [],
      "source": [
        "import pandas as pd\n",
        "import numpy as np\n",
        "from sklearn.datasets import load_iris\n",
        "from sklearn.model_selection import train_test_split\n",
        "from sklearn.metrics import accuracy_score\n",
        "\n",
        "from matplotlib import pyplot as plt"
      ]
    },
    {
      "cell_type": "code",
      "execution_count": null,
      "metadata": {
        "id": "7o4DG1f9uu5J",
        "outputId": "0b735ec4-7737-4cc0-ab91-f2b675690421"
      },
      "outputs": [],
      "source": [
        "# Load the iris dataset\n",
        "iris = load_iris()\n",
        "df = pd.DataFrame(iris.data, columns=iris.feature_names)\n",
        "df"
      ]
    },
    {
      "cell_type": "code",
      "execution_count": null,
      "metadata": {
        "id": "laJvHBxquu5K",
        "outputId": "bc65e784-37d1-477a-f16d-57f799c743a3"
      },
      "outputs": [],
      "source": [
        "print(df.describe())"
      ]
    },
    {
      "cell_type": "code",
      "execution_count": null,
      "metadata": {
        "id": "deLFtIljuu5K",
        "outputId": "8e0de515-aae7-4c75-c978-69c6d79319d5"
      },
      "outputs": [],
      "source": [
        "iris.target_names"
      ]
    },
    {
      "cell_type": "code",
      "execution_count": null,
      "metadata": {
        "id": "1v07Homluu5L",
        "outputId": "b9536f81-e502-420d-ebd6-13ada7791e1f"
      },
      "outputs": [],
      "source": [
        "# Check for missing values\n",
        "print(df.isnull().sum())"
      ]
    },
    {
      "cell_type": "code",
      "execution_count": null,
      "metadata": {
        "id": "NOMXOZ3Iuu5L",
        "outputId": "c90cc98f-285c-4dff-837a-816179fb5c92"
      },
      "outputs": [],
      "source": [
        "import matplotlib.pyplot as plt\n",
        "import seaborn as sns\n",
        "\n",
        "df['target'] = iris.target\n",
        "sns.pairplot(df,hue='target')\n",
        "plt.show()"
      ]
    },
    {
      "cell_type": "markdown",
      "metadata": {
        "id": "fWnOCrrvuu5M"
      },
      "source": [
        "# Linear Regression"
      ]
    },
    {
      "cell_type": "markdown",
      "metadata": {
        "id": "PXNMaPVQuu5M"
      },
      "source": [
        "In statistics, linear regression is a linear approach to modelling the relationship between a dependent variable and one or more independent variables. Let X be the independent variable and Y be the dependent variable. We will define a linear relationship between these two variables as follows:\n",
        "\n",
        "<figure style=\"text-align:center;\">\n",
        "    <img src='http://www.nabla.hr/SlopeInterceptLineEqu.gif' alt='lin_reg'/>\n",
        "    <figcaption>This is the equation for a line that you studied in high school. m is the slope of the line and c is the y intercept.</figcaption>\n",
        "</figure>"
      ]
    },
    {
      "cell_type": "code",
      "execution_count": 4,
      "metadata": {},
      "outputs": [
        {
          "name": "stdout",
          "output_type": "stream",
          "text": [
            "[2.2571694264550644, 1.252729445898609, 3.484818291579621, 2.5919827533072164, 2.4803783110231654, 1.3643338881826594, 2.368773868739115, 3.484818291579621, 2.5919827533072164, 2.2571694264550644, 3.1500049647274695, 1.0295205613305076, 1.1411250036145582, 1.0295205613305076, 1.252729445898609, 2.703587195591267, 3.373213849295571, 2.145564984171014, 2.368773868739115, 3.373213849295571, 1.1411250036145582, 2.9267960801593684, 1.3643338881826594, 3.26160940701152, 3.1500049647274695, 3.484818291579621, 2.9267960801593684, 3.484818291579621, 1.252729445898609, 1.1411250036145582]\n",
            "[6.1 5.7 7.7 6.  6.8 5.4 5.6 6.9 6.2 5.8 6.5 4.8 5.5 4.9 5.1 6.3 6.5 5.6\n",
            " 5.7 6.4 4.7 6.1 5.  6.4 7.9 6.7 6.7 6.8 4.8 4.8]\n",
            "3.65214776009837 13.519034990383428\n"
          ]
        },
        {
          "data": {
            "image/png": "[encoded data removed]",
            "text/plain": [
              "<Figure size 640x480 with 1 Axes>"
            ]
          },
          "metadata": {},
          "output_type": "display_data"
        }
      ],
      "source": [
        "from LinearRegressionSkeleton import LinearRegression\n",
        "\n",
        "model = LinearRegression(1000, 0.001)\n",
        "\n",
        "model.fit(model.X, model.y)\n",
        "model.predict(model.X_test)\n",
        "\n",
        "print(model.MAE(), model.MSE())\n",
        "\n",
        "model.plot_result()"
      ]
    },
    {
      "cell_type": "code",
      "execution_count": null,
      "metadata": {
        "id": "wjL4tGDiuu5N"
      },
      "outputs": [],
      "source": [
        "X = df['petal width (cm)'].values\n",
        "y = df['sepal length (cm)'].values"
      ]
    },
    {
      "cell_type": "code",
      "execution_count": null,
      "metadata": {
        "id": "OFNXi-96uu5N"
      },
      "outputs": [],
      "source": [
        "# Split the data into training and testing sets\n",
        "X_train, X_test, y_train, y_test = train_test_split(X, y, test_size=0.2, random_state=42)"
      ]
    },
    {
      "cell_type": "code",
      "execution_count": null,
      "metadata": {
        "id": "3hQuJbnEuu5N",
        "outputId": "c68417c3-225b-4c63-c6ff-f471ae8cc07f"
      },
      "outputs": [],
      "source": [
        "plt.scatter(X_train, y_train)\n",
        "plt.show()"
      ]
    },
    {
      "cell_type": "code",
      "execution_count": null,
      "metadata": {
        "id": "o_WGL2lVuu5O",
        "outputId": "b91af298-4450-44bd-fddd-576deae2c651"
      },
      "outputs": [],
      "source": [
        "# Building the model\n",
        "m = 0\n",
        "c = 0\n",
        "\n",
        "L = 0.0005  # The learning Rate\n",
        "epochs = 3000  # The number of iterations to perform gradient descent\n",
        "\n",
        "n = float(len(X_train)) # Number of elements in X\n",
        "\n",
        "# Performing Gradient Descent \n",
        "losses = []\n",
        "for i in range(epochs): \n",
        "    y_pred = m*X_train + c  # The current predicted value of Y\n",
        "\n",
        "    residuals = y_pred - y_train\n",
        "    loss = np.sum(residuals ** 2)\n",
        "    losses.append(loss)\n",
        "    D_m = (-2/n) * sum(X_train * residuals)  # Derivative wrt m\n",
        "    D_c = (-2/n) * sum(residuals)  # Derivative wrt c\n",
        "    m = m + L * D_m  # Update m\n",
        "    c = c + L * D_c  # Update c\n",
        "    if i % 100 == 0:\n",
        "        print(np.mean(y_train-y_pred))\n",
        "    "
      ]
    },
    {
      "cell_type": "code",
      "execution_count": null,
      "metadata": {},
      "outputs": [],
      "source": [
        "# Visualize the loss\n",
        "plt.plot(losses)"
      ]
    },
    {
      "cell_type": "code",
      "execution_count": null,
      "metadata": {},
      "outputs": [],
      "source": [
        "# Run the model on the test set\n",
        "pred = []\n",
        "for X in X_test:\n",
        "    y_pred = m*X + c\n",
        "    pred.append(y_pred)\n",
        "print(pred)\n",
        "print(y_test)"
      ]
    },
    {
      "cell_type": "code",
      "execution_count": null,
      "metadata": {},
      "outputs": [],
      "source": []
    },
    {
      "cell_type": "code",
      "execution_count": null,
      "metadata": {},
      "outputs": [],
      "source": [
        "# Calculate the Mean Absolue Error\n",
        "print(\"Mean Absolute Error:\", np.mean(np.abs(y_pred - y_test)))\n",
        "\n",
        "# Calculate the Mean Squared Error\n",
        "print(\"Mean Squared Error:\", np.mean((y_pred - y_test)**2))\n"
      ]
    },
    {
      "cell_type": "code",
      "execution_count": null,
      "metadata": {
        "id": "b0zl92Chuu5O",
        "outputId": "1017f60c-fe88-4921-c04b-08e9410d509d"
      },
      "outputs": [],
      "source": [
        "# Making predictions\n",
        "y_pred = m*X_test + c\n",
        "\n",
        "plt.scatter(X_test, y_test)\n",
        "plt.plot([min(X_test), max(X_test)], [min(y_pred), max(y_pred)], color='red') # predicted\n",
        "plt.show()"
      ]
    },
    {
      "cell_type": "code",
      "execution_count": null,
      "metadata": {},
      "outputs": [],
      "source": []
    },
    {
      "cell_type": "code",
      "execution_count": null,
      "metadata": {},
      "outputs": [],
      "source": []
    }
  ],
  "metadata": {
    "colab": {
      "provenance": []
    },
    "kernelspec": {
      "display_name": "Python 3",
      "language": "python",
      "name": "python3"
    },
    "language_info": {
      "codemirror_mode": {
        "name": "ipython",
        "version": 3
      },
      "file_extension": ".py",
      "mimetype": "text/x-python",
      "name": "python",
      "nbconvert_exporter": "python",
      "pygments_lexer": "ipython3",
      "version": "3.10.5"
    },
    "orig_nbformat": 4
  },
  "nbformat": 4,
  "nbformat_minor": 0
}

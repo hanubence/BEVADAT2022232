{
 "cells": [
  {
   "cell_type": "code",
   "execution_count": 2,
   "metadata": {},
   "outputs": [],
   "source": [
    "import pandas as pd\n",
    "import seaborn as sns\n",
    "from typing import Tuple\n",
    "from scipy.stats import mode\n",
    "from sklearn.metrics import confusion_matrix\n",
    "\n",
    "csv_path = \"diabetes.csv\""
   ]
  },
  {
   "attachments": {},
   "cell_type": "markdown",
   "metadata": {},
   "source": [
    "Load data"
   ]
  },
  {
   "cell_type": "code",
   "execution_count": 91,
   "metadata": {},
   "outputs": [],
   "source": [
    "def load_csv(csv_path:str) ->Tuple[pd.DataFrame, pd.DataFrame]:\n",
    "    dataset = pd.read_csv(csv_path, delimiter=',')\n",
    "    dataset = dataset.sample(frac=1, random_state=42).reset_index(drop=True)\n",
    "    x,y = pd.DataFrame(dataset.iloc[:,:8]), pd.DataFrame(dataset.iloc[:,-1])\n",
    "    return x, y"
   ]
  },
  {
   "attachments": {},
   "cell_type": "markdown",
   "metadata": {},
   "source": [
    "Train test split\n",
    "try optim"
   ]
  },
  {
   "cell_type": "code",
   "execution_count": 92,
   "metadata": {},
   "outputs": [],
   "source": [
    "def train_test_split(features:pd.DataFrame,\n",
    "                     labels:pd.DataFrame,\n",
    "                     test_split_ratio:float) -> Tuple:\n",
    "        \n",
    "    test_size = int(len(features) * test_split_ratio)\n",
    "    train_size = len(features) - test_size\n",
    "    assert len(features) == test_size + train_size, \"Size mismatch!\"\n",
    "\n",
    "    x_train,y_train = features.iloc[:train_size,:],labels[:train_size]\n",
    "    x_test,y_test = features.iloc[train_size:train_size+test_size,:], labels[train_size:train_size + test_size]\n",
    "    return (x_train,y_train,x_test,y_test)"
   ]
  },
  {
   "attachments": {},
   "cell_type": "markdown",
   "metadata": {},
   "source": [
    "Cleaning"
   ]
  },
  {
   "cell_type": "code",
   "execution_count": 355,
   "metadata": {},
   "outputs": [
    {
     "name": "stdout",
     "output_type": "stream",
     "text": [
      "Pregnancies                    11.376807\n",
      "Glucose                      1019.786144\n",
      "BloodPressure                 404.412637\n",
      "SkinThickness                 258.283520\n",
      "Insulin                     13665.150383\n",
      "BMI                            66.215088\n",
      "DiabetesPedigreeFunction        0.108327\n",
      "Age                           140.398920\n",
      "dtype: float64\n",
      "Pregnancies                     9.073049\n",
      "Glucose                       924.890511\n",
      "BloodPressure                 144.255459\n",
      "SkinThickness                  86.668229\n",
      "Insulin                     11833.251995\n",
      "BMI                            47.636498\n",
      "DiabetesPedigreeFunction        0.108327\n",
      "Age                           140.398920\n",
      "dtype: float64\n"
     ]
    }
   ],
   "source": [
    "x,y = load_csv(csv_path)\n",
    "\n",
    "x_train,y_train,x_test,y_test = train_test_split(x,y,0.2)\n",
    "\n",
    "medians = x_train.median()\n",
    "\n",
    "print(x_train.var())\n",
    "\n",
    "x_train = x_train.replace(0, medians)\n",
    "\n",
    "print(x_train.var())\n"
   ]
  },
  {
   "attachments": {},
   "cell_type": "markdown",
   "metadata": {},
   "source": [
    "Distance"
   ]
  },
  {
   "cell_type": "code",
   "execution_count": 271,
   "metadata": {},
   "outputs": [],
   "source": [
    "def euclidean(points:pd.DataFrame,element_of_x:pd.DataFrame) -> pd.DataFrame:\n",
    "    element_of_x = element_of_x.reindex(points.index).ffill()\n",
    "    distances = ((points - element_of_x) ** 2).sum(axis=1) ** 0.5\n",
    "    return pd.DataFrame(distances, columns=['distance'])"
   ]
  },
  {
   "attachments": {},
   "cell_type": "markdown",
   "metadata": {},
   "source": [
    "Predict func"
   ]
  },
  {
   "cell_type": "code",
   "execution_count": 325,
   "metadata": {},
   "outputs": [],
   "source": [
    "def predict(x_train:pd.DataFrame,y_train:pd.DataFrame,x_test:pd.DataFrame,k:int) -> pd.DataFrame:\n",
    "    labels_pred = []\n",
    "    for x_test_element in x_test.itertuples(index=False):\n",
    "        \n",
    "        row = pd.DataFrame(x_test_element).transpose()\n",
    "        row.columns = x_test_element._fields\n",
    "\n",
    "        distances = euclidean(x_train.reset_index(drop=True), row)\n",
    "        distances = pd.concat([distances, y_train], axis=1)\n",
    "        distances.sort_values(by='distance', axis=0, inplace=True)\n",
    "\n",
    "        label_pred = distances.iloc[:k, -1].mode()[0]\n",
    "        labels_pred.append(label_pred)\n",
    "    return pd.DataFrame(labels_pred, columns=['Outcome'])"
   ]
  },
  {
   "cell_type": "code",
   "execution_count": 356,
   "metadata": {},
   "outputs": [
    {
     "name": "stdout",
     "output_type": "stream",
     "text": [
      "    Outcome\n",
      "0         0\n",
      "1         1\n",
      "2         0\n",
      "3         0\n",
      "4         0\n",
      "5         0\n",
      "6         0\n",
      "7         0\n",
      "8         0\n",
      "9         0\n",
      "10        1\n",
      "11        0\n",
      "12        0\n",
      "13        0\n",
      "14        0\n",
      "15        1\n",
      "16        0\n",
      "17        1\n",
      "18        0\n",
      "19        0\n",
      "20        0\n",
      "21        1\n",
      "22        0\n",
      "23        0\n",
      "24        1\n",
      "25        1\n",
      "26        0\n",
      "27        0\n",
      "28        1\n",
      "29        0\n"
     ]
    }
   ],
   "source": [
    "x_train, y_train, x_test, y_test = train_test_split(x,y, 0.2)\n",
    "\n",
    "y_preds = predict(x_train, y_train, x_test, 7)\n",
    "\n",
    "print(y_preds.head(30))"
   ]
  },
  {
   "attachments": {},
   "cell_type": "markdown",
   "metadata": {},
   "source": [
    "Metrics"
   ]
  },
  {
   "cell_type": "code",
   "execution_count": 369,
   "metadata": {},
   "outputs": [
    {
     "name": "stdout",
     "output_type": "stream",
     "text": [
      "73.8562091503268\n"
     ]
    }
   ],
   "source": [
    "def accuracy(y_test:pd.Series,y_preds:pd.DataFrame) -> float:\n",
    "    y_test.reset_index(drop=True, inplace=True)\n",
    "    true_positive = int((y_test == y_preds).sum())\n",
    "    return true_positive / y_test.size * 100\n",
    "\n",
    "print(accuracy(y_test, y_preds))"
   ]
  },
  {
   "cell_type": "code",
   "execution_count": 359,
   "metadata": {},
   "outputs": [
    {
     "data": {
      "image/png": "[encoded data removed]",
      "text/plain": [
       "<Figure size 640x480 with 2 Axes>"
      ]
     },
     "metadata": {},
     "output_type": "display_data"
    }
   ],
   "source": [
    "def plot_confusion_matrix(y_test:pd.DataFrame,y_preds:pd.DataFrame):\n",
    "        conf_matrix = confusion_matrix(y_test,y_preds)\n",
    "        sns.heatmap(conf_matrix,annot=True) \n",
    "\n",
    "plot_confusion_matrix(y_test, y_preds)"
   ]
  },
  {
   "cell_type": "code",
   "execution_count": null,
   "metadata": {},
   "outputs": [],
   "source": [
    "x_train, y_train, x_test, y_test = train_test_split(x,y,0.2)\n",
    "\n",
    "y_preds = predict(x_train, y_train, x_test, 3)\n",
    "\n",
    "print(accuracy(y_test, y_preds))"
   ]
  },
  {
   "cell_type": "code",
   "execution_count": 374,
   "metadata": {},
   "outputs": [
    {
     "name": "stdout",
     "output_type": "stream",
     "text": [
      "(1, 63.4)\n",
      "(2, 67.97)\n",
      "(3, 66.67)\n",
      "(4, 71.9)\n",
      "(5, 69.28)\n",
      "(6, 74.51)\n",
      "(7, 73.86)\n",
      "(8, 73.86)\n",
      "(9, 75.16)\n",
      "(10, 73.86)\n",
      "(11, 73.86)\n",
      "(12, 71.9)\n",
      "(13, 72.55)\n",
      "(14, 73.86)\n",
      "(15, 74.51)\n",
      "(16, 73.86)\n",
      "(17, 72.55)\n",
      "(18, 75.16)\n",
      "(19, 74.51)\n",
      "(20, 73.86)\n",
      "(9, 75.16)\n"
     ]
    }
   ],
   "source": [
    "def best_k() -> Tuple[int, float]:\n",
    "    results = []\n",
    "    for k in range(1,21):\n",
    "        x = (k, round(accuracy(y_test, predict(x_train, y_train, x_test, k)),2))\n",
    "        print(x)\n",
    "        results.append(x)\n",
    "    return max(results, key=lambda x:x[1])\n",
    "\n",
    "print(best_k())"
   ]
  }
 ],
 "metadata": {
  "kernelspec": {
   "display_name": "Python 3",
   "language": "python",
   "name": "python3"
  },
  "language_info": {
   "codemirror_mode": {
    "name": "ipython",
    "version": 3
   },
   "file_extension": ".py",
   "mimetype": "text/x-python",
   "name": "python",
   "nbconvert_exporter": "python",
   "pygments_lexer": "ipython3",
   "version": "3.9.10"
  },
  "orig_nbformat": 4
 },
 "nbformat": 4,
 "nbformat_minor": 2
}
